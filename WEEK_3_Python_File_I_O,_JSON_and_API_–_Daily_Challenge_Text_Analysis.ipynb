{
  "nbformat": 4,
  "nbformat_minor": 0,
  "metadata": {
    "colab": {
      "provenance": [],
      "authorship_tag": "ABX9TyNnlib8x/jpyLilAvcYODdi",
      "include_colab_link": true
    },
    "kernelspec": {
      "name": "python3",
      "display_name": "Python 3"
    },
    "language_info": {
      "name": "python"
    }
  },
  "cells": [
    {
      "cell_type": "markdown",
      "metadata": {
        "id": "view-in-github",
        "colab_type": "text"
      },
      "source": [
        "<a href=\"https://colab.research.google.com/github/ilansarbac95/DI158/blob/main/WEEK_3_Python_File_I_O%2C_JSON_and_API_%E2%80%93_Daily_Challenge_Text_Analysis.ipynb\" target=\"_parent\"><img src=\"https://colab.research.google.com/assets/colab-badge.svg\" alt=\"Open In Colab\"/></a>"
      ]
    },
    {
      "cell_type": "code",
      "execution_count": null,
      "metadata": {
        "id": "xVNchtfKHZAj"
      },
      "outputs": [],
      "source": [
        "# ============================================\n",
        "# Python File I/O, JSON and API – Daily Challenge: Text Analysis\n",
        "# ============================================\n",
        "# Name: Ilan Sarbac\n",
        "# Date: October 2025\n",
        "# Description: Classes for analyzing and modifying text (string or file)\n",
        "# ============================================\n",
        "\n",
        "import string\n",
        "import re\n",
        "\n",
        "# ---------- PART 1: Analyzing a Simple String ----------\n",
        "\n",
        "class Text:\n",
        "    def __init__(self, text):\n",
        "        self.text = text\n",
        "\n",
        "    def word_frequency(self, word):\n",
        "        words = self.text.lower().split()\n",
        "        count = words.count(word.lower())\n",
        "        if count == 0:\n",
        "            return None\n",
        "        return count\n",
        "\n",
        "    def most_common_word(self):\n",
        "        words = self.text.lower().split()\n",
        "        freq = {}\n",
        "        for w in words:\n",
        "            freq[w] = freq.get(w, 0) + 1\n",
        "        if not freq:\n",
        "            return None\n",
        "        most_common = max(freq, key=freq.get)\n",
        "        return most_common\n",
        "\n",
        "    def unique_words(self):\n",
        "        words = self.text.lower().split()\n",
        "        return list(set(words))\n",
        "\n",
        "    @classmethod\n",
        "    def from_file(cls, file_path):\n",
        "        try:\n",
        "            with open(file_path, \"r\") as f:\n",
        "                content = f.read()\n",
        "                return cls(content)\n",
        "        except FileNotFoundError:\n",
        "            print(\"File not found.\")\n",
        "            return cls(\"\")\n",
        "\n",
        "\n",
        "# ---------- BONUS PART: Text Modification ----------\n",
        "\n",
        "class TextModification(Text):\n",
        "    def remove_punctuation(self):\n",
        "        no_punct = self.text.translate(str.maketrans('', '', string.punctuation))\n",
        "        return no_punct\n",
        "\n",
        "    def remove_stop_words(self):\n",
        "        stop_words = [\"a\", \"the\", \"is\", \"in\", \"and\", \"to\", \"with\", \"of\", \"for\", \"on\"]\n",
        "        words = self.text.split()\n",
        "        filtered = [w for w in words if w.lower() not in stop_words]\n",
        "        return \" \".join(filtered)\n",
        "\n",
        "    def remove_special_characters(self):\n",
        "        # Only keep letters, numbers, spaces\n",
        "        cleaned = re.sub(r'[^A-Za-z0-9\\s]', '', self.text)\n",
        "        return cleaned\n",
        "\n",
        "\n",
        "# ---------- Simple Test Zone ----------\n",
        "\n",
        "if __name__ == \"__main__\":\n",
        "    print(\"=== Text Analysis ===\")\n",
        "\n",
        "    sample = \"Hello, hello! Is this working? Yes, it is working. Working well.\"\n",
        "\n",
        "    txt = Text(sample)\n",
        "    print(\"Frequency of 'working':\", txt.word_frequency(\"working\"))\n",
        "    print(\"Most common word:\", txt.most_common_word())\n",
        "    print(\"Unique words:\", txt.unique_words())\n",
        "\n",
        "    mod = TextModification(sample)\n",
        "    print(\"\\n=== Text Modification ===\")\n",
        "    print(\"Without punctuation:\", mod.remove_punctuation())\n",
        "    print(\"Without stop words:\", mod.remove_stop_words())\n",
        "    print(\"Without special characters:\", mod.remove_special_characters())\n"
      ]
    }
  ]
}