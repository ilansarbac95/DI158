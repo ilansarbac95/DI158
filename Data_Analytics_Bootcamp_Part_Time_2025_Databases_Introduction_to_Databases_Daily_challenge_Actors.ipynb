{
  "nbformat": 4,
  "nbformat_minor": 0,
  "metadata": {
    "colab": {
      "provenance": [],
      "authorship_tag": "ABX9TyN86R0QY2Qg8pAcpxAVicMS",
      "include_colab_link": true
    },
    "kernelspec": {
      "name": "python3",
      "display_name": "Python 3"
    },
    "language_info": {
      "name": "python"
    }
  },
  "cells": [
    {
      "cell_type": "markdown",
      "metadata": {
        "id": "view-in-github",
        "colab_type": "text"
      },
      "source": [
        "<a href=\"https://colab.research.google.com/github/ilansarbac95/DI158/blob/main/Data_Analytics_Bootcamp_Part_Time_2025_Databases_Introduction_to_Databases_Daily_challenge_Actors.ipynb\" target=\"_parent\"><img src=\"https://colab.research.google.com/assets/colab-badge.svg\" alt=\"Open In Colab\"/></a>"
      ]
    },
    {
      "cell_type": "code",
      "execution_count": 1,
      "metadata": {
        "colab": {
          "base_uri": "https://localhost:8080/"
        },
        "id": "4gDiFiGkn5Qs",
        "outputId": "08945d53-0f62-4902-a5d1-6b975fa50a85"
      },
      "outputs": [
        {
          "output_type": "stream",
          "name": "stdout",
          "text": [
            "Nombre d'acteurs : 5\n",
            "\n",
            "Tous les acteurs :\n",
            "(1, 'Robert', 'Downey', '1965-04-04')\n",
            "(2, 'Chris', 'Evans', '1981-06-13')\n",
            "(3, 'Scarlett', 'Johansson', '1984-11-22')\n",
            "(4, 'Chris', 'Hemsworth', '1983-08-11')\n",
            "(5, 'Mark', 'Ruffalo', '1967-11-22')\n",
            "\n",
            "Après ajout d'un acteur :\n",
            "(1, 'Robert', 'Downey', '1965-04-04')\n",
            "(2, 'Chris', 'Evans', '1981-06-13')\n",
            "(3, 'Scarlett', 'Johansson', '1984-11-22')\n",
            "(4, 'Chris', 'Hemsworth', '1983-08-11')\n",
            "(5, 'Mark', 'Ruffalo', '1967-11-22')\n",
            "(6, 'Tom', 'Holland', '1996-06-01')\n",
            "\n",
            "Acteurs nés après 1980 :\n",
            "(2, 'Chris', 'Evans', '1981-06-13')\n",
            "(3, 'Scarlett', 'Johansson', '1984-11-22')\n",
            "(4, 'Chris', 'Hemsworth', '1983-08-11')\n",
            "(6, 'Tom', 'Holland', '1996-06-01')\n"
          ]
        }
      ],
      "source": [
        "# ===============================\n",
        "# Daily Challenge : Actors (SQLite)\n",
        "# ===============================\n",
        "\n",
        "# 1️⃣ Importer sqlite3\n",
        "import sqlite3\n",
        "\n",
        "# 2️⃣ Créer une base de données en mémoire (ou fichier 'actors.db')\n",
        "conn = sqlite3.connect(':memory:')  # utiliser ':memory:' pour tester sans fichier\n",
        "cur = conn.cursor()\n",
        "\n",
        "# 3️⃣ Créer la table actors\n",
        "cur.execute('''\n",
        "CREATE TABLE actors (\n",
        "    actor_id INTEGER PRIMARY KEY AUTOINCREMENT,\n",
        "    first_name TEXT,\n",
        "    last_name TEXT,\n",
        "    birth_date DATE\n",
        ")\n",
        "''')\n",
        "\n",
        "# 4️⃣ Insérer des données exemples\n",
        "actors_data = [\n",
        "    ('Robert', 'Downey', '1965-04-04'),\n",
        "    ('Chris', 'Evans', '1981-06-13'),\n",
        "    ('Scarlett', 'Johansson', '1984-11-22'),\n",
        "    ('Chris', 'Hemsworth', '1983-08-11'),\n",
        "    ('Mark', 'Ruffalo', '1967-11-22')\n",
        "]\n",
        "\n",
        "cur.executemany('''\n",
        "INSERT INTO actors (first_name, last_name, birth_date)\n",
        "VALUES (?, ?, ?)\n",
        "''', actors_data)\n",
        "\n",
        "# 5️⃣ Exercice : Compter le nombre d'acteurs dans la table\n",
        "cur.execute('SELECT COUNT(*) FROM actors')\n",
        "count = cur.fetchone()[0]\n",
        "print(f\"Nombre d'acteurs : {count}\")\n",
        "\n",
        "# 6️⃣ Exercice : Sélectionner tous les acteurs\n",
        "cur.execute('SELECT * FROM actors')\n",
        "all_actors = cur.fetchall()\n",
        "print(\"\\nTous les acteurs :\")\n",
        "for actor in all_actors:\n",
        "    print(actor)\n",
        "\n",
        "# 7️⃣ Exercice : Ajouter un nouvel acteur avec tous les champs remplis\n",
        "cur.execute('''\n",
        "INSERT INTO actors (first_name, last_name, birth_date)\n",
        "VALUES ('Tom', 'Holland', '1996-06-01')\n",
        "''')\n",
        "conn.commit()\n",
        "\n",
        "# Vérification : tous les acteurs après ajout\n",
        "cur.execute('SELECT * FROM actors')\n",
        "all_actors = cur.fetchall()\n",
        "print(\"\\nAprès ajout d'un acteur :\")\n",
        "for actor in all_actors:\n",
        "    print(actor)\n",
        "\n",
        "# 8️⃣ Exercice : Filtrer les acteurs nés après 1980\n",
        "cur.execute('SELECT * FROM actors WHERE birth_date > \"1980-01-01\"')\n",
        "young_actors = cur.fetchall()\n",
        "print(\"\\nActeurs nés après 1980 :\")\n",
        "for actor in young_actors:\n",
        "    print(actor)\n",
        "\n",
        "# 9️⃣ Fermer la connexion\n",
        "conn.close()\n"
      ]
    }
  ]
}