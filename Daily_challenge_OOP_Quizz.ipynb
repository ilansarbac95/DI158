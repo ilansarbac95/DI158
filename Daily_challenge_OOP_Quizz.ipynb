{
  "nbformat": 4,
  "nbformat_minor": 0,
  "metadata": {
    "colab": {
      "provenance": [],
      "toc_visible": true,
      "authorship_tag": "ABX9TyNvyBbOS4JOw1SJJfzkkFtH",
      "include_colab_link": true
    },
    "kernelspec": {
      "name": "python3",
      "display_name": "Python 3"
    },
    "language_info": {
      "name": "python"
    }
  },
  "cells": [
    {
      "cell_type": "markdown",
      "metadata": {
        "id": "view-in-github",
        "colab_type": "text"
      },
      "source": [
        "<a href=\"https://colab.research.google.com/github/ilansarbac95/DI158/blob/main/Daily_challenge_OOP_Quizz.ipynb\" target=\"_parent\"><img src=\"https://colab.research.google.com/assets/colab-badge.svg\" alt=\"Open In Colab\"/></a>"
      ]
    },
    {
      "cell_type": "code",
      "execution_count": null,
      "metadata": {
        "id": "MshBzUJyJK--"
      },
      "outputs": [],
      "source": []
    },
    {
      "cell_type": "markdown",
      "source": [
        "**1. What is a class?**  \n",
        "A class is a blueprint for creating objects (instances). It defines attributes and methods that the created objects will have.\n",
        "\n",
        "**2. What is an instance?**  \n",
        "An instance is an individual object created from a class. It holds actual data and can use the methods defined in its class.\n",
        "\n",
        "**3. What is encapsulation?**  \n",
        "Encapsulation is the concept of restricting access to certain details of an object and only exposing what’s necessary through methods (getters/setters).\n",
        "\n",
        "**4. What is abstraction?**  \n",
        "Abstraction means hiding the complexity of the system and showing only essential features. It helps in reducing programming complexity.\n",
        "\n",
        "**5. What is inheritance?**  \n",
        "Inheritance allows a class (child) to inherit attributes and methods from another class (parent), promoting reusability.\n",
        "\n",
        "**6. What is multiple inheritance?**  \n",
        "Multiple inheritance is a feature where a class can inherit from more than one parent class.\n",
        "\n",
        "**7. What is polymorphism?**  \n",
        "Polymorphism allows objects of different classes to be treated as objects of a common superclass. Methods can behave differently depending on the object.\n",
        "\n",
        "**8. What is method resolution order (MRO)?**  \n",
        "MRO is the order in which Python looks for a method in a hierarchy of classes. It determines which method gets called in multiple inheritance scenarios.\n"
      ],
      "metadata": {
        "id": "Rwtnu2X8JMko"
      }
    },
    {
      "cell_type": "code",
      "source": [
        "import random\n",
        "\n",
        "class Card:\n",
        "    def __init__(self, suit, value):\n",
        "        self.suit = suit\n",
        "        self.value = value\n",
        "\n",
        "    def __repr__(self):\n",
        "        return f\"{self.value} of {self.suit}\"\n",
        "\n",
        "class Deck:\n",
        "    def __init__(self):\n",
        "        self.cards = []\n",
        "        self.build_deck()\n",
        "\n",
        "    def build_deck(self):\n",
        "        suits = ['Hearts', 'Diamonds', 'Clubs', 'Spades']\n",
        "        values = ['A', '2', '3', '4', '5', '6', '7', '8', '9', '10', 'J', 'Q', 'K']\n",
        "        self.cards = [Card(suit, value) for suit in suits for value in values]\n",
        "\n",
        "    def shuffle(self):\n",
        "        random.shuffle(self.cards)\n",
        "\n",
        "    def deal(self):\n",
        "        if len(self.cards) == 0:\n",
        "            return \"No more cards to deal!\"\n",
        "        return self.cards.pop()\n"
      ],
      "metadata": {
        "id": "jlB-SHGzJNq-"
      },
      "execution_count": 1,
      "outputs": []
    },
    {
      "cell_type": "code",
      "source": [
        "deck = Deck()\n",
        "deck.shuffle()\n",
        "\n",
        "# Pioche 5 cartes\n",
        "for _ in range(5):\n",
        "    card = deck.deal()\n",
        "    print(\"Dealt:\", card)\n"
      ],
      "metadata": {
        "colab": {
          "base_uri": "https://localhost:8080/"
        },
        "id": "D_65BGgxJmrF",
        "outputId": "f24f7118-eb60-4c52-e314-870c14414844"
      },
      "execution_count": 2,
      "outputs": [
        {
          "output_type": "stream",
          "name": "stdout",
          "text": [
            "Dealt: 2 of Diamonds\n",
            "Dealt: 3 of Diamonds\n",
            "Dealt: 6 of Hearts\n",
            "Dealt: 7 of Spades\n",
            "Dealt: A of Diamonds\n"
          ]
        }
      ]
    }
  ]
}