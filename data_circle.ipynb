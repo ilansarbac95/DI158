{
  "nbformat": 4,
  "nbformat_minor": 0,
  "metadata": {
    "colab": {
      "provenance": [],
      "authorship_tag": "ABX9TyN0nr7YEoBX5aBcp42tL2JT",
      "include_colab_link": true
    },
    "kernelspec": {
      "name": "python3",
      "display_name": "Python 3"
    },
    "language_info": {
      "name": "python"
    }
  },
  "cells": [
    {
      "cell_type": "markdown",
      "metadata": {
        "id": "view-in-github",
        "colab_type": "text"
      },
      "source": [
        "<a href=\"https://colab.research.google.com/github/ilansarbac95/DI158/blob/main/data_circle.ipynb\" target=\"_parent\"><img src=\"https://colab.research.google.com/assets/colab-badge.svg\" alt=\"Open In Colab\"/></a>"
      ]
    },
    {
      "cell_type": "code",
      "source": [
        "import math\n",
        "import matplotlib.pyplot as plt\n",
        "\n",
        "class Circle:\n",
        "    def __init__(self, *, radius=None, diameter=None):\n",
        "        if radius is not None:\n",
        "            self.radius = radius\n",
        "        elif diameter is not None:\n",
        "            self.radius = diameter / 2\n",
        "        else:\n",
        "            raise ValueError(\"You must provide either radius or diameter.\")\n",
        "\n",
        "    @property\n",
        "    def diameter(self):\n",
        "        return self.radius * 2\n",
        "\n",
        "    @property\n",
        "    def area(self):\n",
        "        return round(math.pi * self.radius ** 2, 2)\n",
        "\n",
        "    def __str__(self):\n",
        "        return f\"Circle(radius={self.radius})\"\n",
        "\n",
        "    def __repr__(self):\n",
        "        return self.__str__()\n",
        "\n",
        "    def __add__(self, other):\n",
        "        if isinstance(other, Circle):\n",
        "            return Circle(radius=self.radius + other.radius)\n",
        "        raise TypeError(\"You can only add Circle to Circle\")\n",
        "\n",
        "    def __eq__(self, other):\n",
        "        return isinstance(other, Circle) and self.radius == other.radius\n",
        "\n",
        "    def __gt__(self, other):\n",
        "        return isinstance(other, Circle) and self.radius > other.radius\n",
        "\n",
        "    def __lt__(self, other):\n",
        "        return isinstance(other, Circle) and self.radius < other.radius\n",
        "\n",
        "# 🔍 Tests\n",
        "c1 = Circle(radius=5)\n",
        "c2 = Circle(diameter=20)\n",
        "c3 = c1 + c2\n",
        "\n",
        "print(\"c1:\", c1)\n",
        "print(\"Diamètre de c1 :\", c1.diameter)\n",
        "print(\"Aire de c1 :\", c1.area)\n",
        "print(\"c1 + c2:\", c3)\n",
        "\n",
        "print(\"c1 == c2 ?\", c1 == c2)\n",
        "print(\"c2 > c1 ?\", c2 > c1)\n",
        "\n",
        "# 🌀 Liste triée\n",
        "cercles = [c1, c2, c3]\n",
        "cercles.sort()\n",
        "print(\"Cercles triés :\", cercles)\n"
      ],
      "metadata": {
        "colab": {
          "base_uri": "https://localhost:8080/"
        },
        "id": "tpCNnTT2eOES",
        "outputId": "88f2d730-eaff-45a9-d63a-a49539e4ad44"
      },
      "execution_count": 2,
      "outputs": [
        {
          "output_type": "stream",
          "name": "stdout",
          "text": [
            "c1: Circle(radius=5)\n",
            "Diamètre de c1 : 10\n",
            "Aire de c1 : 78.54\n",
            "c1 + c2: Circle(radius=15.0)\n",
            "c1 == c2 ? False\n",
            "c2 > c1 ? True\n",
            "Cercles triés : [Circle(radius=5), Circle(radius=10.0), Circle(radius=15.0)]\n"
          ]
        }
      ]
    }
  ]
}