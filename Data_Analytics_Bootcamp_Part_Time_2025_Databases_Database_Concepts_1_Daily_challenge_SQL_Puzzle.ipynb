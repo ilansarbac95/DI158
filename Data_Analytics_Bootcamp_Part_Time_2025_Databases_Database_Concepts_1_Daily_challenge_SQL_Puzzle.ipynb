{
  "nbformat": 4,
  "nbformat_minor": 0,
  "metadata": {
    "colab": {
      "provenance": [],
      "authorship_tag": "ABX9TyN+Erl6xjf5j4y/XcJj54wd",
      "include_colab_link": true
    },
    "kernelspec": {
      "name": "python3",
      "display_name": "Python 3"
    },
    "language_info": {
      "name": "python"
    }
  },
  "cells": [
    {
      "cell_type": "markdown",
      "metadata": {
        "id": "view-in-github",
        "colab_type": "text"
      },
      "source": [
        "<a href=\"https://colab.research.google.com/github/ilansarbac95/DI158/blob/main/Data_Analytics_Bootcamp_Part_Time_2025_Databases_Database_Concepts_1_Daily_challenge_SQL_Puzzle.ipynb\" target=\"_parent\"><img src=\"https://colab.research.google.com/assets/colab-badge.svg\" alt=\"Open In Colab\"/></a>"
      ]
    },
    {
      "cell_type": "code",
      "execution_count": 2,
      "metadata": {
        "colab": {
          "base_uri": "https://localhost:8080/"
        },
        "id": "4drVGhOtqlmR",
        "outputId": "5f6ba51a-7604-457f-ddb4-5d555cc914e9"
      },
      "outputs": [
        {
          "output_type": "stream",
          "name": "stdout",
          "text": [
            "FirstTab:\n",
            "(5, 'Pawan')\n",
            "(6, 'Sharlee')\n",
            "(7, 'Krish')\n",
            "(None, 'Avtaar')\n",
            "\n",
            "SecondTab:\n",
            "(5,)\n",
            "(None,)\n",
            "\n",
            "Q1: 0\n",
            "Q2: 2\n",
            "Q3: 0\n",
            "Q4: 2\n"
          ]
        }
      ],
      "source": [
        "# ===============================\n",
        "# Daily Challenge: SQL Puzzle\n",
        "# ===============================\n",
        "\n",
        "import sqlite3\n",
        "\n",
        "# 1️⃣ Connexion à une base en mémoire\n",
        "conn = sqlite3.connect(':memory:')\n",
        "cur = conn.cursor()\n",
        "\n",
        "# 2️⃣ Création des tables\n",
        "cur.execute('''\n",
        "CREATE TABLE FirstTab (\n",
        "    id INTEGER,\n",
        "    name VARCHAR(10)\n",
        ")\n",
        "''')\n",
        "\n",
        "cur.execute('''\n",
        "CREATE TABLE SecondTab (\n",
        "    id INTEGER\n",
        ")\n",
        "''')\n",
        "\n",
        "# 3️⃣ Insertion des données\n",
        "cur.executemany('INSERT INTO FirstTab (id, name) VALUES (?, ?)', [\n",
        "    (5, 'Pawan'),\n",
        "    (6, 'Sharlee'),\n",
        "    (7, 'Krish'),\n",
        "    (None, 'Avtaar')\n",
        "])\n",
        "\n",
        "cur.executemany('INSERT INTO SecondTab (id) VALUES (?)', [\n",
        "    (5,),\n",
        "    (None,)\n",
        "])\n",
        "\n",
        "conn.commit()\n",
        "\n",
        "# 4️⃣ Vérification du contenu des tables\n",
        "print(\"FirstTab:\")\n",
        "cur.execute('SELECT * FROM FirstTab')\n",
        "for row in cur.fetchall():\n",
        "    print(row)\n",
        "\n",
        "print(\"\\nSecondTab:\")\n",
        "cur.execute('SELECT * FROM SecondTab')\n",
        "for row in cur.fetchall():\n",
        "    print(row)\n",
        "\n",
        "# 5️⃣ Q1\n",
        "cur.execute('''\n",
        "SELECT COUNT(*)\n",
        "FROM FirstTab AS ft\n",
        "WHERE ft.id NOT IN (SELECT id FROM SecondTab WHERE id IS NULL)\n",
        "''')\n",
        "print(\"\\nQ1:\", cur.fetchone()[0])\n",
        "\n",
        "# 6️⃣ Q2\n",
        "cur.execute('''\n",
        "SELECT COUNT(*)\n",
        "FROM FirstTab AS ft\n",
        "WHERE ft.id NOT IN (SELECT id FROM SecondTab WHERE id = 5)\n",
        "''')\n",
        "print(\"Q2:\", cur.fetchone()[0])\n",
        "\n",
        "# 7️⃣ Q3\n",
        "cur.execute('''\n",
        "SELECT COUNT(*)\n",
        "FROM FirstTab AS ft\n",
        "WHERE ft.id NOT IN (SELECT id FROM SecondTab)\n",
        "''')\n",
        "print(\"Q3:\", cur.fetchone()[0])\n",
        "\n",
        "# 8️⃣ Q4\n",
        "cur.execute('''\n",
        "SELECT COUNT(*)\n",
        "FROM FirstTab AS ft\n",
        "WHERE ft.id NOT IN (SELECT id FROM SecondTab WHERE id IS NOT NULL)\n",
        "''')\n",
        "print(\"Q4:\", cur.fetchone()[0])\n",
        "\n",
        "# 🔹 Fermer la connexion à la fin\n",
        "conn.close()\n"
      ]
    }
  ]
}