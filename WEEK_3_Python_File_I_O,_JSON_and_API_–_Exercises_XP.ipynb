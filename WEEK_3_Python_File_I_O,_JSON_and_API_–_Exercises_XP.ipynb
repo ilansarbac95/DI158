{
  "nbformat": 4,
  "nbformat_minor": 0,
  "metadata": {
    "colab": {
      "provenance": [],
      "authorship_tag": "ABX9TyNS7dnQ8fk5/jwd3wH/jWpj",
      "include_colab_link": true
    },
    "kernelspec": {
      "name": "python3",
      "display_name": "Python 3"
    },
    "language_info": {
      "name": "python"
    }
  },
  "cells": [
    {
      "cell_type": "markdown",
      "metadata": {
        "id": "view-in-github",
        "colab_type": "text"
      },
      "source": [
        "<a href=\"https://colab.research.google.com/github/ilansarbac95/DI158/blob/main/WEEK_3_Python_File_I_O%2C_JSON_and_API_%E2%80%93_Exercises_XP.ipynb\" target=\"_parent\"><img src=\"https://colab.research.google.com/assets/colab-badge.svg\" alt=\"Open In Colab\"/></a>"
      ]
    },
    {
      "cell_type": "code",
      "execution_count": 2,
      "metadata": {
        "colab": {
          "base_uri": "https://localhost:8080/"
        },
        "id": "z6gE-SDNFMcy",
        "outputId": "c59898de-c7c8-4f9d-d910-19d010b5680a"
      },
      "outputs": [
        {
          "output_type": "stream",
          "name": "stdout",
          "text": [
            "Welcome! This program generates a random sentence.\n",
            "How many words should the sentence contain? (between 2 and 20): 3\n",
            "Error: File not found.\n",
            "Generated sentence: No sentence generated (word list not found).\n",
            "\n",
            "Employee salary: 7000\n",
            "Modified JSON saved to 'modified_employee.json'\n"
          ]
        }
      ],
      "source": [
        "# ============================================\n",
        "# Python File I/O, JSON and API – Exercises XP\n",
        "# ============================================\n",
        "# Name: Elias Marlowe\n",
        "# Date: October 2025\n",
        "# Description: File handling, random generator, JSON editing\n",
        "# ============================================\n",
        "\n",
        "\n",
        "# ---------- EXERCISE 1 : Random Sentence Generator ----------\n",
        "\n",
        "# This script reads a list of words from a file and generates\n",
        "# a random sentence based on a user-defined length.\n",
        "\n",
        "import random\n",
        "\n",
        "def get_words_from_file(file_path):\n",
        "    try:\n",
        "        with open(file_path, \"r\") as file:\n",
        "            content = file.read()\n",
        "            words = content.split()\n",
        "            return words\n",
        "    except FileNotFoundError:\n",
        "        print(\"Error: File not found.\")\n",
        "        return []\n",
        "\n",
        "def get_random_sentence(length):\n",
        "    words = get_words_from_file(\"word_list.txt\")\n",
        "    if not words:\n",
        "        return \"No sentence generated (word list not found).\"\n",
        "\n",
        "    selected_words = [random.choice(words) for _ in range(length)]\n",
        "    sentence = \" \".join(selected_words).lower()\n",
        "    return sentence\n",
        "\n",
        "def main():\n",
        "    print(\"Welcome! This program generates a random sentence.\")\n",
        "    try:\n",
        "        user_input = input(\"How many words should the sentence contain? (between 2 and 20): \")\n",
        "        sentence_length = int(user_input)\n",
        "        if sentence_length < 2 or sentence_length > 20:\n",
        "            print(\"Please enter a number between 2 and 20.\")\n",
        "        else:\n",
        "            sentence = get_random_sentence(sentence_length)\n",
        "            print(\"Generated sentence:\", sentence)\n",
        "    except ValueError:\n",
        "        print(\"Invalid input. Please enter a number.\")\n",
        "\n",
        "\n",
        "# Run the sentence generator\n",
        "main()\n",
        "\n",
        "\n",
        "# ---------- EXERCISE 2 : Working with JSON ----------\n",
        "\n",
        "# This part loads a JSON string, adds a new field, and saves the result to a file.\n",
        "\n",
        "import json\n",
        "\n",
        "# Just a basic JSON string representing an employee inside a company\n",
        "simple_json = \"\"\"\n",
        "{\n",
        "    \"company\": {\n",
        "        \"employee\": {\n",
        "            \"name\": \"emma\",\n",
        "            \"payable\": {\n",
        "                \"salary\": 7000,\n",
        "                \"bonus\": 800\n",
        "            }\n",
        "        }\n",
        "    }\n",
        "}\n",
        "\"\"\"\n",
        "\n",
        "# Step 1: Load the JSON string into a dictionary\n",
        "data = json.loads(simple_json)\n",
        "\n",
        "# Step 2: Access the nested \"salary\" key\n",
        "salary = data[\"company\"][\"employee\"][\"payable\"][\"salary\"]\n",
        "print(\"\\nEmployee salary:\", salary)\n",
        "\n",
        "# Step 3: Add a new key \"birth_date\" to the \"employee\" section\n",
        "data[\"company\"][\"employee\"][\"birth_date\"] = \"1995-08-22\"  # Example date\n",
        "\n",
        "# Step 4: Save the modified dictionary to a file\n",
        "with open(\"modified_employee.json\", \"w\") as f:\n",
        "    json.dump(data, f, indent=4)\n",
        "\n",
        "print(\"Modified JSON saved to 'modified_employee.json'\")\n"
      ]
    }
  ]
}