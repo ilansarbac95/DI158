{
  "nbformat": 4,
  "nbformat_minor": 0,
  "metadata": {
    "colab": {
      "provenance": []
    },
    "kernelspec": {
      "name": "python3",
      "display_name": "Python 3"
    },
    "language_info": {
      "name": "python"
    }
  },
  "cells": [
    {
      "cell_type": "code",
      "execution_count": 6,
      "metadata": {
        "colab": {
          "base_uri": "https://localhost:8080/"
        },
        "id": "ztQ8DTrnFTsU",
        "outputId": "f9ae352f-d945-41cf-86d9-9d523895359f"
      },
      "outputs": [
        {
          "output_type": "stream",
          "name": "stdout",
          "text": [
            "Quel est votre âge ? 3\n",
            "Vous êtes mineur.\n"
          ]
        }
      ],
      "source": [
        "# PYTHON BASE 1 - EXERCICE 1\n",
        "\n",
        "# Demander l'âge à l'utilisateur\n",
        "age = int(input(\"Quel est votre âge ? \"))\n",
        "\n",
        "# Vérification\n",
        "if age < 18:\n",
        "    print(\"Vous êtes mineur.\")\n",
        "else:\n",
        "    print(\"Vous êtes majeur.\")\n"
      ]
    },
    {
      "cell_type": "code",
      "source": [
        "# EXERCICE 2 : Fonctions\n",
        "\n",
        "def somme_pairs(liste):\n",
        "    return sum(x for x in liste if x % 2 == 0)\n",
        "\n",
        "# Exemple\n",
        "nums = [1, 2, 3, 4, 5, 6]\n",
        "print(\"Somme des nombres pairs :\", somme_pairs(nums))  # Résultat : 12\n"
      ],
      "metadata": {
        "colab": {
          "base_uri": "https://localhost:8080/"
        },
        "id": "3VvAd4tBFyRK",
        "outputId": "7e6fdede-66bb-4ab0-c360-211b4dd87854"
      },
      "execution_count": 7,
      "outputs": [
        {
          "output_type": "stream",
          "name": "stdout",
          "text": [
            "Somme des nombres pairs : 12\n"
          ]
        }
      ]
    },
    {
      "cell_type": "code",
      "source": [
        "# EXERCICE 3 : POO - Classe\n",
        "\n",
        "class Personne:\n",
        "    def __init__(self, nom, age):\n",
        "        self.nom = nom\n",
        "        self.age = age\n",
        "\n",
        "    def se_presenter(self):\n",
        "        print(f\"Bonjour, je m'appelle {self.nom} et j'ai {self.age} ans.\")\n",
        "\n",
        "# Exemple\n",
        "p = Personne(\"Alice\", 30)\n",
        "p.se_presenter()\n"
      ],
      "metadata": {
        "colab": {
          "base_uri": "https://localhost:8080/"
        },
        "id": "0fBTUlfQF6ta",
        "outputId": "e032379a-499a-48ea-b76f-f57f01f82ad3"
      },
      "execution_count": 8,
      "outputs": [
        {
          "output_type": "stream",
          "name": "stdout",
          "text": [
            "Bonjour, je m'appelle Alice et j'ai 30 ans.\n"
          ]
        }
      ]
    },
    {
      "cell_type": "code",
      "source": [
        "# EXERCICE 4 : Pandas - Lecture CSV et moyenne\n",
        "\n",
        "import pandas as pd\n",
        "\n",
        "# Exemple : créer un DataFrame pour la démo\n",
        "df = pd.DataFrame({\"nom\": [\"Alice\", \"Bob\", \"Céline\"], \"age\": [25, 30, 35]})\n",
        "\n",
        "# Calcul de l’âge moyen\n",
        "moyenne = df[\"age\"].mean()\n",
        "print(\"Âge moyen :\", moyenne)\n"
      ],
      "metadata": {
        "colab": {
          "base_uri": "https://localhost:8080/"
        },
        "id": "hl5o2StrGSsb",
        "outputId": "a6e4186d-d041-4766-9c26-359d6d2b4dc5"
      },
      "execution_count": 9,
      "outputs": [
        {
          "output_type": "stream",
          "name": "stdout",
          "text": [
            "Âge moyen : 30.0\n"
          ]
        }
      ]
    },
    {
      "cell_type": "code",
      "source": [
        "# EXERCICE 5 : SQL (SQLite in-memory)\n",
        "\n",
        "import sqlite3\n",
        "import pandas as pd\n",
        "\n",
        "# Connexion SQLite\n",
        "conn = sqlite3.connect(\":memory:\")\n",
        "cur = conn.cursor()\n",
        "\n",
        "# Création de table\n",
        "cur.execute(\"CREATE TABLE etudiants (nom TEXT, note REAL);\")\n",
        "\n",
        "# Insertion de données\n",
        "cur.executemany(\"INSERT INTO etudiants VALUES (?, ?);\", [\n",
        "    (\"Alice\", 12),\n",
        "    (\"Bob\", 9),\n",
        "    (\"Céline\", 15)\n",
        "])\n",
        "\n",
        "# Requête : étudiants avec note > 10\n",
        "df = pd.read_sql(\"SELECT * FROM etudiants WHERE note > 10;\", conn)\n",
        "print(df)\n"
      ],
      "metadata": {
        "colab": {
          "base_uri": "https://localhost:8080/"
        },
        "id": "FpPHwAsFGgSl",
        "outputId": "fd22feb7-007e-4fc3-b2fc-f061982b1bab"
      },
      "execution_count": 10,
      "outputs": [
        {
          "output_type": "stream",
          "name": "stdout",
          "text": [
            "      nom  note\n",
            "0   Alice  12.0\n",
            "1  Céline  15.0\n"
          ]
        }
      ]
    },
    {
      "cell_type": "code",
      "source": [
        "#EXERCICE 6 : Visualisation matplotlib\n",
        "\n",
        "import matplotlib.pyplot as plt\n",
        "\n",
        "jours = [\"Lun\", \"Mar\", \"Mer\", \"Jeu\", \"Ven\", \"Sam\", \"Dim\"]\n",
        "temperatures = [15, 17, 16, 18, 20, 22, 21]\n",
        "\n",
        "plt.plot(jours, temperatures, marker='o')\n",
        "plt.title(\"Températures de la semaine\")\n",
        "plt.xlabel(\"Jour\")\n",
        "plt.ylabel(\"Température (°C)\")\n",
        "plt.grid()\n",
        "plt.show()\n"
      ],
      "metadata": {
        "colab": {
          "base_uri": "https://localhost:8080/",
          "height": 472
        },
        "id": "BPP3stkxGxue",
        "outputId": "60a62abd-6df3-4974-9f6b-a82a9f20356b"
      },
      "execution_count": 11,
      "outputs": [
        {
          "output_type": "display_data",
          "data": {
            "text/plain": [
              "<Figure size 640x480 with 1 Axes>"
            ],
            "image/png": "[encoded data removed]"
          },
          "metadata": {}
        }
      ]
    },
    {
      "cell_type": "code",
      "source": [
        "# EXERCICE 7 : Boucles & Dictionnaires\n",
        "\n",
        "phrase = \"Developers Institute rocks\"\n",
        "compte = {}\n",
        "\n",
        "# Parcours lettre par lettre\n",
        "for lettre in phrase.lower():\n",
        "    if lettre != \" \":\n",
        "        if lettre in compte:\n",
        "            compte[lettre] += 1\n",
        "        else:\n",
        "            compte[lettre] = 1\n",
        "\n",
        "print(\"Occurrences des lettres :\", compte)\n"
      ],
      "metadata": {
        "colab": {
          "base_uri": "https://localhost:8080/"
        },
        "id": "phk9P6n3HhMt",
        "outputId": "224601c7-c1ad-4d44-e355-d2f1a77bb177"
      },
      "execution_count": 12,
      "outputs": [
        {
          "output_type": "stream",
          "name": "stdout",
          "text": [
            "Occurrences des lettres : {'d': 1, 'e': 4, 'v': 1, 'l': 1, 'o': 2, 'p': 1, 'r': 2, 's': 3, 'i': 2, 'n': 1, 't': 3, 'u': 1, 'c': 1, 'k': 1}\n"
          ]
        }
      ]
    },
    {
      "cell_type": "code",
      "source": [
        "# EXERICE  8 LIRE UN FICHIER TEXTE\n",
        "\n",
        "# Création du fichier\n",
        "with open(\"mon_texte.txt\", \"w\", encoding=\"utf-8\") as f:\n",
        "    f.write(\"Bonjour !\\nVoici un exemple de fichier texte.\\nÀ bientôt !\")\n",
        "\n",
        "# Lecture ligne par ligne\n",
        "with open(\"mon_texte.txt\", \"r\", encoding=\"utf-8\") as f:\n",
        "    for ligne in f:\n",
        "        print(\"Ligne :\", ligne.strip())\n"
      ],
      "metadata": {
        "colab": {
          "base_uri": "https://localhost:8080/"
        },
        "id": "4aI74bYyHlZA",
        "outputId": "3384e66d-e014-4f53-ee10-2f119218c07c"
      },
      "execution_count": 15,
      "outputs": [
        {
          "output_type": "stream",
          "name": "stdout",
          "text": [
            "Ligne : Bonjour !\n",
            "Ligne : Voici un exemple de fichier texte.\n",
            "Ligne : À bientôt !\n"
          ]
        }
      ]
    },
    {
      "cell_type": "code",
      "source": [
        "# EXERCICE 9 : Créer une fonction lambda et l’utiliser avec map\n",
        "\n",
        "nombres = [1, 2, 3, 4, 5]\n",
        "\n",
        "# Fonction lambda + map\n",
        "carres = list(map(lambda x: x**2, nombres))\n",
        "print(\"Nombres au carré :\", carres)\n"
      ],
      "metadata": {
        "colab": {
          "base_uri": "https://localhost:8080/"
        },
        "id": "AMf_z8HbH0Bs",
        "outputId": "dd9d98e6-de83-4f11-a228-a7cc5c829fd5"
      },
      "execution_count": 14,
      "outputs": [
        {
          "output_type": "stream",
          "name": "stdout",
          "text": [
            "Nombres au carré : [1, 4, 9, 16, 25]\n"
          ]
        }
      ]
    },
    {
      "cell_type": "code",
      "source": [
        "# EXERCICE 10 : JSON — Sérialisation d’un dictionnaire\n",
        "\n",
        "import json\n",
        "\n",
        "etudiant = {\n",
        "    \"nom\": \"Sarah\",\n",
        "    \"age\": 22,\n",
        "    \"notes\": [15, 17, 19]\n",
        "}\n",
        "\n",
        "# Sauvegarde dans un fichier JSON\n",
        "with open(\"etudiant.json\", \"w\", encoding=\"utf-8\") as f:\n",
        "    json.dump(etudiant, f, indent=2)\n",
        "\n",
        "# Lecture du fichier\n",
        "with open(\"etudiant.json\", \"r\", encoding=\"utf-8\") as f:\n",
        "    contenu = json.load(f)\n",
        "\n",
        "print(\"Contenu lu :\", contenu)\n"
      ],
      "metadata": {
        "colab": {
          "base_uri": "https://localhost:8080/"
        },
        "id": "5oX7E6WjIVrc",
        "outputId": "b842be7f-9af4-452b-976a-4e431d787de1"
      },
      "execution_count": 16,
      "outputs": [
        {
          "output_type": "stream",
          "name": "stdout",
          "text": [
            "Contenu lu : {'nom': 'Sarah', 'age': 22, 'notes': [15, 17, 19]}\n"
          ]
        }
      ]
    },
    {
      "cell_type": "code",
      "source": [
        "# EXERCICE 11 : Pandas — Fusion de DataFrames\n",
        "import pandas as pd\n",
        "\n",
        "# DataFrame étudiants\n",
        "df_etudiants = pd.DataFrame({\n",
        "    \"nom\": [\"Alice\", \"Bob\", \"Céline\"],\n",
        "    \"age\": [20, 21, 22]\n",
        "})\n",
        "\n",
        "# DataFrame notes\n",
        "df_notes = pd.DataFrame({\n",
        "    \"nom\": [\"Alice\", \"Bob\", \"Céline\"],\n",
        "    \"note\": [15.5, 12.0, 17.5]\n",
        "})\n",
        "\n",
        "# Fusion\n",
        "df_merged = pd.merge(df_etudiants, df_notes, on=\"nom\")\n",
        "print(df_merged)\n"
      ],
      "metadata": {
        "colab": {
          "base_uri": "https://localhost:8080/"
        },
        "id": "xt2zv0EuId2p",
        "outputId": "428c9e7e-1a97-4958-c7bb-d25d60a0d1ae"
      },
      "execution_count": 17,
      "outputs": [
        {
          "output_type": "stream",
          "name": "stdout",
          "text": [
            "      nom  age  note\n",
            "0   Alice   20  15.5\n",
            "1     Bob   21  12.0\n",
            "2  Céline   22  17.5\n"
          ]
        }
      ]
    },
    {
      "cell_type": "code",
      "source": [
        "# EXERCICE 12 : Matplotlib — Scatter plot\n",
        "\n",
        "import matplotlib.pyplot as plt\n",
        "\n",
        "tailles = [160, 165, 170, 175, 180]\n",
        "poids = [55, 60, 65, 70, 75]\n",
        "\n",
        "plt.scatter(tailles, poids, color='blue', marker='o')\n",
        "plt.title(\"Relation Taille vs Poids\")\n",
        "plt.xlabel(\"Taille (cm)\")\n",
        "plt.ylabel(\"Poids (kg)\")\n",
        "plt.grid(True)\n",
        "plt.show()\n"
      ],
      "metadata": {
        "colab": {
          "base_uri": "https://localhost:8080/",
          "height": 472
        },
        "id": "mLhooT38In49",
        "outputId": "39a1f1d2-7430-44b5-c60c-12f3368685d7"
      },
      "execution_count": 18,
      "outputs": [
        {
          "output_type": "display_data",
          "data": {
            "text/plain": [
              "<Figure size 640x480 with 1 Axes>"
            ],
            "image/png": "[encoded data removed]"
          },
          "metadata": {}
        }
      ]
    }
  ]
}