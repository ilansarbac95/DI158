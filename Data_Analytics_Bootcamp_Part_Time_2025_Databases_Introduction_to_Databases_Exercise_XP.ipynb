{
  "nbformat": 4,
  "nbformat_minor": 0,
  "metadata": {
    "colab": {
      "provenance": [],
      "authorship_tag": "ABX9TyNDbEU9NDSXAU7iAo9hkgaN",
      "include_colab_link": true
    },
    "kernelspec": {
      "name": "python3",
      "display_name": "Python 3"
    },
    "language_info": {
      "name": "python"
    }
  },
  "cells": [
    {
      "cell_type": "markdown",
      "metadata": {
        "id": "view-in-github",
        "colab_type": "text"
      },
      "source": [
        "<a href=\"https://colab.research.google.com/github/ilansarbac95/DI158/blob/main/Data_Analytics_Bootcamp_Part_Time_2025_Databases_Introduction_to_Databases_Exercise_XP.ipynb\" target=\"_parent\"><img src=\"https://colab.research.google.com/assets/colab-badge.svg\" alt=\"Open In Colab\"/></a>"
      ]
    },
    {
      "cell_type": "code",
      "source": [
        "import sqlite3\n",
        "\n",
        "# Créer une base de données en mémoire\n",
        "conn = sqlite3.connect(':memory:')\n",
        "cur = conn.cursor()\n",
        "\n",
        "# Créer les tables\n",
        "cur.execute(\"\"\"\n",
        "CREATE TABLE items (\n",
        "    item_id INTEGER PRIMARY KEY AUTOINCREMENT,\n",
        "    item_name TEXT,\n",
        "    price REAL\n",
        ")\n",
        "\"\"\")\n",
        "\n",
        "cur.execute(\"\"\"\n",
        "CREATE TABLE customers (\n",
        "    customer_id INTEGER PRIMARY KEY AUTOINCREMENT,\n",
        "    first_name TEXT,\n",
        "    last_name TEXT\n",
        ")\n",
        "\"\"\")\n",
        "\n",
        "# Insérer les données\n",
        "items_data = [\n",
        "    ('Small Desk', 100),\n",
        "    ('Large Desk', 300),\n",
        "    ('Fan', 80)\n",
        "]\n",
        "\n",
        "customers_data = [\n",
        "    ('Greg', 'Jones'),\n",
        "    ('Sandra', 'Jones'),\n",
        "    ('Scott', 'Scott'),\n",
        "    ('Trevor', 'Green'),\n",
        "    ('Melanie', 'Johnson')\n",
        "]\n",
        "\n",
        "cur.executemany(\"INSERT INTO items (item_name, price) VALUES (?, ?)\", items_data)\n",
        "cur.executemany(\"INSERT INTO customers (first_name, last_name) VALUES (?, ?)\", customers_data)\n",
        "\n",
        "conn.commit()\n",
        "\n",
        "# Exemple de requêtes\n",
        "# 1. Tous les items\n",
        "cur.execute(\"SELECT * FROM items\")\n",
        "print(\"All items:\", cur.fetchall())\n",
        "\n",
        "# 2. Items avec prix > 80\n",
        "cur.execute(\"SELECT * FROM items WHERE price > 80\")\n",
        "print(\"Items with price > 80:\", cur.fetchall())\n",
        "\n",
        "# 3. Customers whose first_name is NOT 'Scott'\n",
        "cur.execute(\"SELECT * FROM customers WHERE first_name != 'Scott'\")\n",
        "print(\"Customers not named Scott:\", cur.fetchall())\n",
        "\n",
        "# Fermer la connexion\n",
        "conn.close()\n"
      ],
      "metadata": {
        "colab": {
          "base_uri": "https://localhost:8080/"
        },
        "id": "WuvOf7H2lg5B",
        "outputId": "60d70634-dc25-43c7-e282-a5136a304024"
      },
      "execution_count": 2,
      "outputs": [
        {
          "output_type": "stream",
          "name": "stdout",
          "text": [
            "All items: [(1, 'Small Desk', 100.0), (2, 'Large Desk', 300.0), (3, 'Fan', 80.0)]\n",
            "Items with price > 80: [(1, 'Small Desk', 100.0), (2, 'Large Desk', 300.0)]\n",
            "Customers not named Scott: [(1, 'Greg', 'Jones'), (2, 'Sandra', 'Jones'), (4, 'Trevor', 'Green'), (5, 'Melanie', 'Johnson')]\n"
          ]
        }
      ]
    }
  ]
}