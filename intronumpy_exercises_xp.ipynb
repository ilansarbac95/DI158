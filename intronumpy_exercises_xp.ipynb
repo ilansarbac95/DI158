{
  "nbformat": 4,
  "nbformat_minor": 0,
  "metadata": {
    "colab": {
      "provenance": [],
      "authorship_tag": "ABX9TyPY87oOKwGH9ByoaQYsgWN3",
      "include_colab_link": true
    },
    "kernelspec": {
      "name": "python3",
      "display_name": "Python 3"
    },
    "language_info": {
      "name": "python"
    }
  },
  "cells": [
    {
      "cell_type": "markdown",
      "metadata": {
        "id": "view-in-github",
        "colab_type": "text"
      },
      "source": [
        "<a href=\"https://colab.research.google.com/github/ilansarbac95/DI158/blob/main/intronumpy_exercises_xp.ipynb\" target=\"_parent\"><img src=\"https://colab.research.google.com/assets/colab-badge.svg\" alt=\"Open In Colab\"/></a>"
      ]
    },
    {
      "cell_type": "code",
      "execution_count": null,
      "metadata": {
        "colab": {
          "base_uri": "https://localhost:8080/"
        },
        "id": "x4EK_jG7B5S-",
        "outputId": "d9c80b8f-7cb4-49fb-f170-b9a2027b1e1e"
      },
      "outputs": [
        {
          "output_type": "stream",
          "name": "stdout",
          "text": [
            "[0 1 2 3 4 5 6 7 8 9]\n"
          ]
        }
      ],
      "source": [
        "import numpy as np\n",
        "\n",
        "# Exercice 1 : Créer un array de 0 à 9\n",
        "arr1 = np.arange(10)\n",
        "print(arr1)\n"
      ]
    },
    {
      "cell_type": "code",
      "source": [
        "# Exercice 2 : Convertir une liste float en array d'entiers\n",
        "liste = [3.14, 2.17, 6., 1., 2.]\n",
        "arr2 = np.array(liste, dtype=int)\n",
        "print(arr2)\n"
      ],
      "metadata": {
        "colab": {
          "base_uri": "https://localhost:8080/"
        },
        "id": "2YBvB4rzB-pT",
        "outputId": "98301022-1934-45e4-f310-f6f791a9b5aa"
      },
      "execution_count": null,
      "outputs": [
        {
          "output_type": "stream",
          "name": "stdout",
          "text": [
            "[3 2 6 1 2]\n"
          ]
        }
      ]
    },
    {
      "cell_type": "code",
      "source": [
        "# Exercice 3 : Créer une matrice 3x3 avec les nombres de 1 à 9\n",
        "arr3 = np.arange(1, 10).reshape(3, 3)\n",
        "print(arr3)\n"
      ],
      "metadata": {
        "colab": {
          "base_uri": "https://localhost:8080/"
        },
        "id": "C6MsKl9rCA27",
        "outputId": "7897cdc2-92d8-4ff5-b861-c424ebf76349"
      },
      "execution_count": null,
      "outputs": [
        {
          "output_type": "stream",
          "name": "stdout",
          "text": [
            "[[1 2 3]\n",
            " [4 5 6]\n",
            " [7 8 9]]\n"
          ]
        }
      ]
    },
    {
      "cell_type": "code",
      "source": [
        "# Exercice 4 : Créer une matrice 4x5 avec des valeurs aléatoires entre 0 et 1\n",
        "arr4 = np.random.rand(4, 5)\n",
        "print(arr4)\n"
      ],
      "metadata": {
        "colab": {
          "base_uri": "https://localhost:8080/"
        },
        "id": "ok3uz3TICFca",
        "outputId": "8189147f-9fc0-469e-b24e-b60355aacb1a"
      },
      "execution_count": null,
      "outputs": [
        {
          "output_type": "stream",
          "name": "stdout",
          "text": [
            "[[0.16867516 0.72857351 0.2288575  0.99321    0.52354971]\n",
            " [0.36756437 0.72021425 0.88624935 0.87120057 0.41772587]\n",
            " [0.88627357 0.76375638 0.02635177 0.3127932  0.0354776 ]\n",
            " [0.94142849 0.66726869 0.35477715 0.80829002 0.42072808]]\n"
          ]
        }
      ]
    },
    {
      "cell_type": "code",
      "source": [
        "# Exercice 5 : Créer une matrice et sélectionner la 2e ligne\n",
        "arr5 = np.array([[21, 22, 23, 22, 23], [20, 21, 22, 23, 24], [21, 22, 23, 22, 21]])\n",
        "second_row = arr5[1]\n",
        "print(second_row)\n"
      ],
      "metadata": {
        "colab": {
          "base_uri": "https://localhost:8080/"
        },
        "id": "H-Z_FXJqCG0J",
        "outputId": "2cfe9415-b825-4b19-e810-f48c598f7f61"
      },
      "execution_count": null,
      "outputs": [
        {
          "output_type": "stream",
          "name": "stdout",
          "text": [
            "[20 21 22 23 24]\n"
          ]
        }
      ]
    },
    {
      "cell_type": "code",
      "source": [
        "# Exercice 6 : Inverser un array\n",
        "arr6 = np.array([9, 8, 7, 6, 5, 4, 3, 2, 1, 0])\n",
        "reversed_arr = arr6[::-1]\n",
        "print(reversed_arr)\n"
      ],
      "metadata": {
        "colab": {
          "base_uri": "https://localhost:8080/"
        },
        "id": "v9xJU01ICN0p",
        "outputId": "3492db02-8cdd-499d-f9ff-ed06c61e5ad7"
      },
      "execution_count": null,
      "outputs": [
        {
          "output_type": "stream",
          "name": "stdout",
          "text": [
            "[0 1 2 3 4 5 6 7 8 9]\n"
          ]
        }
      ]
    },
    {
      "cell_type": "code",
      "source": [
        "# Exercice 7 : Créer une matrice identité 4x4\n",
        "identity = np.eye(4)\n",
        "print(identity)\n"
      ],
      "metadata": {
        "colab": {
          "base_uri": "https://localhost:8080/"
        },
        "id": "33gh0QFwCR6h",
        "outputId": "2931acb3-4b6b-43f6-e3da-173b096a62f0"
      },
      "execution_count": null,
      "outputs": [
        {
          "output_type": "stream",
          "name": "stdout",
          "text": [
            "[[1. 0. 0. 0.]\n",
            " [0. 1. 0. 0.]\n",
            " [0. 0. 1. 0.]\n",
            " [0. 0. 0. 1.]]\n"
          ]
        }
      ]
    },
    {
      "cell_type": "code",
      "source": [
        "# Exercice 8 : Calculer somme et moyenne d’un array\n",
        "arr8 = np.array([1, 2, 3, 4, 5, 6, 7, 8, 9])\n",
        "total = np.sum(arr8)\n",
        "average = np.mean(arr8)\n",
        "print(\"Sum:\", total, \"Average:\", average)\n"
      ],
      "metadata": {
        "colab": {
          "base_uri": "https://localhost:8080/"
        },
        "id": "7p_147P4CUSn",
        "outputId": "9303d187-d4d0-4b77-9733-986d33fe3de4"
      },
      "execution_count": null,
      "outputs": [
        {
          "output_type": "stream",
          "name": "stdout",
          "text": [
            "Sum: 45 Average: 5.0\n"
          ]
        }
      ]
    },
    {
      "cell_type": "code",
      "source": [
        "# Exercice 9 : Créer un array de 1 à 20, reshape en 4x5\n",
        "arr9 = np.arange(1, 21).reshape(4, 5)\n",
        "print(arr9)\n"
      ],
      "metadata": {
        "colab": {
          "base_uri": "https://localhost:8080/"
        },
        "id": "47grxrPxCXrn",
        "outputId": "da5a18d9-636c-4f96-c5b9-c99c5a43d9e6"
      },
      "execution_count": null,
      "outputs": [
        {
          "output_type": "stream",
          "name": "stdout",
          "text": [
            "[[ 1  2  3  4  5]\n",
            " [ 6  7  8  9 10]\n",
            " [11 12 13 14 15]\n",
            " [16 17 18 19 20]]\n"
          ]
        }
      ]
    },
    {
      "cell_type": "code",
      "source": [
        "# Exercice 10 : Extraire les nombres impairs\n",
        "arr10 = np.array([1, 2, 3, 4, 5, 6, 7, 8, 9])\n",
        "odd_numbers = arr10[arr10 % 2 == 1]\n",
        "print(odd_numbers)\n"
      ],
      "metadata": {
        "colab": {
          "base_uri": "https://localhost:8080/"
        },
        "id": "HClu5qqBCatw",
        "outputId": "a68f28de-964e-4858-afcd-69103a3d3a3b"
      },
      "execution_count": null,
      "outputs": [
        {
          "output_type": "stream",
          "name": "stdout",
          "text": [
            "[1 3 5 7 9]\n"
          ]
        }
      ]
    }
  ]
}