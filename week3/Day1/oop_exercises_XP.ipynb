{
  "nbformat": 4,
  "nbformat_minor": 0,
  "metadata": {
    "colab": {
      "provenance": []
    },
    "kernelspec": {
      "name": "python3",
      "display_name": "Python 3"
    },
    "language_info": {
      "name": "python"
    }
  },
  "cells": [
    {
      "cell_type": "code",
      "execution_count": 1,
      "metadata": {
        "colab": {
          "base_uri": "https://localhost:8080/"
        },
        "id": "HIMQnOubLKsZ",
        "outputId": "19991461-0af7-4788-dfe5-fd05005cb55a"
      },
      "outputs": [
        {
          "output_type": "stream",
          "name": "stdout",
          "text": [
            "5 dollars\n",
            "5\n",
            "5 dollars\n",
            "15 dollars\n",
            "10 dollars\n",
            "20 dollars\n"
          ]
        }
      ],
      "source": [
        "# exercice 1\n",
        "class Currency:\n",
        "    def __init__(self, currency, amount):\n",
        "        self.currency = currency\n",
        "        self.amount = amount\n",
        "\n",
        "    def __str__(self):\n",
        "        return f\"{self.amount} {self.currency}s\"\n",
        "\n",
        "    def __int__(self):\n",
        "        return self.amount\n",
        "\n",
        "    def __repr__(self):\n",
        "        return f\"{self.amount} {self.currency}s\"\n",
        "\n",
        "    def __add__(self, other):\n",
        "        if isinstance(other, Currency):\n",
        "            if self.currency != other.currency:\n",
        "                raise TypeError(f\"Cannot add between Currency type {self.currency} and {other.currency}\")\n",
        "            return Currency(self.currency, self.amount + other.amount)\n",
        "        elif isinstance(other, int):\n",
        "            return Currency(self.currency, self.amount + other)\n",
        "        else:\n",
        "            raise TypeError(f\"Unsupported addition with type {type(other)}\")\n",
        "\n",
        "    def __iadd__(self, other):\n",
        "        if isinstance(other, int):\n",
        "            self.amount += other\n",
        "            return self\n",
        "        elif isinstance(other, Currency):\n",
        "            if self.currency != other.currency:\n",
        "                raise TypeError(f\"Cannot iadd between Currency type {self.currency} and {other.currency}\")\n",
        "            self.amount += other.amount\n",
        "            return self\n",
        "        else:\n",
        "            raise TypeError(f\"Unsupported iadd with type {type(other)}\")\n",
        "\n",
        "# 💡 Exemple de test :\n",
        "c1 = Currency('dollar', 5)\n",
        "print(c1)         # 5 dollars\n",
        "print(int(c1))    # 5\n",
        "print(repr(c1))   # 5 dollars\n",
        "\n",
        "c2 = Currency('dollar', 10)\n",
        "print(c1 + c2)    # 15 dollars\n",
        "\n",
        "c1 += 5\n",
        "print(c1)         # 10 dollars\n",
        "\n",
        "c1 += Currency('dollar', 10)\n",
        "print(c1)         # 20 dollars\n",
        "\n",
        "# Provoque une erreur :\n",
        "# print(c1 + Currency('shekel', 5))  # TypeError attendu\n"
      ]
    },
    {
      "cell_type": "code",
      "source": [
        "# 📄 math_operations.py\n",
        "\n",
        "def add(a, b):\n",
        "    return a + b\n"
      ],
      "metadata": {
        "id": "myvOJuPxLms0"
      },
      "execution_count": 2,
      "outputs": []
    },
    {
      "cell_type": "code",
      "source": [
        "# Colab : cette cellule permet de créer dynamiquement le fichier .py\n",
        "with open(\"math_operations.py\", \"w\") as f:\n",
        "    f.write(\"def add(a, b):\\n    return a + b\\n\")\n",
        "\n",
        "# ✅ Importer et tester\n",
        "from math_operations import add\n",
        "\n",
        "resultat = add(10, 5)\n",
        "print(\"Résultat de add(10, 5) :\", resultat)\n"
      ],
      "metadata": {
        "colab": {
          "base_uri": "https://localhost:8080/"
        },
        "id": "X-Wkey6LLx5q",
        "outputId": "86f9b44d-95f1-4b19-9410-f23d749a9e3e"
      },
      "execution_count": 3,
      "outputs": [
        {
          "output_type": "stream",
          "name": "stdout",
          "text": [
            "Résultat de add(10, 5) : 15\n"
          ]
        }
      ]
    },
    {
      "cell_type": "code",
      "source": [
        "import string\n",
        "import random\n",
        "\n",
        "# Alphabet\n",
        "print(\"Lettres minuscules :\", string.ascii_lowercase)\n",
        "print(\"Lettres majuscules :\", string.ascii_uppercase)\n",
        "\n",
        "# Générer une chaîne aléatoire de 10 lettres\n",
        "random_letters = ''.join(random.choice(string.ascii_letters) for _ in range(10))\n",
        "print(\"Chaîne aléatoire :\", random_letters)\n"
      ],
      "metadata": {
        "colab": {
          "base_uri": "https://localhost:8080/"
        },
        "id": "m5TetbLlL14g",
        "outputId": "336b0ab3-a919-4b18-9eff-0d6a63d288a5"
      },
      "execution_count": 4,
      "outputs": [
        {
          "output_type": "stream",
          "name": "stdout",
          "text": [
            "Lettres minuscules : abcdefghijklmnopqrstuvwxyz\n",
            "Lettres majuscules : ABCDEFGHIJKLMNOPQRSTUVWXYZ\n",
            "Chaîne aléatoire : wGHppPXais\n"
          ]
        }
      ]
    },
    {
      "cell_type": "code",
      "source": [
        "# exercice 4\n",
        "from datetime import datetime\n",
        "\n",
        "# Date et heure actuelles\n",
        "now = datetime.now()\n",
        "print(\"Date actuelle :\", now.strftime(\"%Y-%m-%d\"))\n",
        "print(\"Heure actuelle :\", now.strftime(\"%H:%M:%S\"))"
      ],
      "metadata": {
        "colab": {
          "base_uri": "https://localhost:8080/"
        },
        "id": "VgI0O7dpL8Nx",
        "outputId": "d7ecb4a7-4dc0-4cdc-a6c0-3a1f9e7c4835"
      },
      "execution_count": 5,
      "outputs": [
        {
          "output_type": "stream",
          "name": "stdout",
          "text": [
            "Date actuelle : 2025-09-28\n",
            "Heure actuelle : 16:37:41\n"
          ]
        }
      ]
    },
    {
      "cell_type": "code",
      "source": [
        "# exercice 5\n",
        "\n",
        "from datetime import datetime\n",
        "\n",
        "def time_until_jan_1st():\n",
        "    now = datetime.now()\n",
        "    next_jan1 = datetime(year=now.year + 1, month=1, day=1)\n",
        "    delta = next_jan1 - now\n",
        "\n",
        "    jours = delta.days\n",
        "    secondes_restantes = delta.seconds\n",
        "    heures = secondes_restantes // 3600\n",
        "    minutes = (secondes_restantes % 3600) // 60\n",
        "\n",
        "    print(f\"Temps restant jusqu'au 1er janvier : {jours} jours, {heures} heures, {minutes} minutes.\")\n",
        "\n",
        "# Appel de la fonction\n",
        "time_until_jan_1st()\n"
      ],
      "metadata": {
        "colab": {
          "base_uri": "https://localhost:8080/"
        },
        "id": "9UKfBJOdL_26",
        "outputId": "7d2438c3-4b92-4f86-9708-502e61fbcf46"
      },
      "execution_count": 6,
      "outputs": [
        {
          "output_type": "stream",
          "name": "stdout",
          "text": [
            "Temps restant jusqu'au 1er janvier : 94 jours, 7 heures, 21 minutes.\n"
          ]
        }
      ]
    },
    {
      "cell_type": "code",
      "source": [
        "# exercice 6\n",
        "\n",
        "from datetime import datetime\n",
        "\n",
        "def birthday_to_minutes(year, month, day):\n",
        "    birth_date = datetime(year=year, month=month, day=day)\n",
        "    now = datetime.now()\n",
        "    delta = now - birth_date\n",
        "    minutes = delta.total_seconds() // 60\n",
        "\n",
        "    print(f\"Tu as vécu environ {int(minutes):,} minutes.\")\n",
        "\n",
        "# Exemple (à remplacer par ta vraie date de naissance)\n",
        "birthday_to_minutes(1998, 7, 12)\n"
      ],
      "metadata": {
        "colab": {
          "base_uri": "https://localhost:8080/"
        },
        "id": "cfYktpjbMEeU",
        "outputId": "584f362c-9ceb-41ab-b230-698f4fbc5172"
      },
      "execution_count": 7,
      "outputs": [
        {
          "output_type": "stream",
          "name": "stdout",
          "text": [
            "Tu as vécu environ 14,314,598 minutes.\n"
          ]
        }
      ]
    },
    {
      "cell_type": "code",
      "source": [
        "# exercice 7\n",
        "\n",
        "!pip install faker --quiet\n",
        "\n",
        "from faker import Faker\n",
        "\n",
        "def generate_fake_users(n):\n",
        "    fake = Faker()\n",
        "    users = []\n",
        "\n",
        "    for _ in range(n):\n",
        "        user = {\n",
        "            \"nom\": fake.name(),\n",
        "            \"email\": fake.email(),\n",
        "            \"adresse\": fake.address(),\n",
        "            \"pays\": fake.country()\n",
        "        }\n",
        "        users.append(user)\n",
        "\n",
        "    return users\n",
        "\n",
        "# Générer 5 faux utilisateurs\n",
        "fake_users = generate_fake_users(5)\n",
        "\n",
        "# Afficher proprement\n",
        "import pandas as pd\n",
        "df_fake = pd.DataFrame(fake_users)\n",
        "print(df_fake)\n"
      ],
      "metadata": {
        "colab": {
          "base_uri": "https://localhost:8080/"
        },
        "id": "efoWzrGvMg5x",
        "outputId": "6812fb5b-a3e6-4d79-b0cf-4b3afb61988b"
      },
      "execution_count": 8,
      "outputs": [
        {
          "output_type": "stream",
          "name": "stdout",
          "text": [
            "\u001b[?25l   \u001b[90m━━━━━━━━━━━━━━━━━━━━━━━━━━━━━━━━━━━━━━━━\u001b[0m \u001b[32m0.0/2.0 MB\u001b[0m \u001b[31m?\u001b[0m eta \u001b[36m-:--:--\u001b[0m\r\u001b[2K   \u001b[90m━━━━━━━━━━━━━━━━━━━━━━━━━━━━━━━━━━━━━━━━\u001b[0m \u001b[32m2.0/2.0 MB\u001b[0m \u001b[31m68.7 MB/s\u001b[0m eta \u001b[36m0:00:00\u001b[0m\n",
            "\u001b[?25h                    nom                        email  \\\n",
            "0  Dr. Andrew Cooper MD          aaron49@example.org   \n",
            "1          Jackie Moore          pfisher@example.com   \n",
            "2          Alisha Smith     greenwilliam@example.com   \n",
            "3       Manuel Robinson  victoriajohnson@example.org   \n",
            "4         Tracey Coffey       nicolebass@example.org   \n",
            "\n",
            "                                             adresse                   pays  \n",
            "0  558 Jeremiah Course Apt. 475\\nRobertland, IL 8...                Moldova  \n",
            "1  44033 Jenkins Flat Apt. 448\\nWest Marvinfurt, ...                  Kenya  \n",
            "2                   Unit 4972 Box 6694\\nDPO AE 42874  Palestinian Territory  \n",
            "3  58282 David Flat Suite 751\\nJacksonmouth, MI 7...      Wallis and Futuna  \n",
            "4           37719 Crystal Burg\\nNew Robert, FM 64895                  Egypt  \n"
          ]
        }
      ]
    }
  ]
}