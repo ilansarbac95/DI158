{
  "nbformat": 4,
  "nbformat_minor": 0,
  "metadata": {
    "colab": {
      "provenance": [],
      "authorship_tag": "ABX9TyPw/wtxewvGo0ci+KyGpsOe",
      "include_colab_link": true
    },
    "kernelspec": {
      "name": "python3",
      "display_name": "Python 3"
    },
    "language_info": {
      "name": "python"
    }
  },
  "cells": [
    {
      "cell_type": "markdown",
      "metadata": {
        "id": "view-in-github",
        "colab_type": "text"
      },
      "source": [
        "<a href=\"https://colab.research.google.com/github/ilansarbac95/DI158/blob/main/Data_Analytics_Bootcamp_Part_Time_2025_Databases_%26_Hackathon_Python_and_Database_Daily_challenge_Web_API_to_DB.ipynb\" target=\"_parent\"><img src=\"https://colab.research.google.com/assets/colab-badge.svg\" alt=\"Open In Colab\"/></a>"
      ]
    },
    {
      "cell_type": "code",
      "execution_count": 2,
      "metadata": {
        "colab": {
          "base_uri": "https://localhost:8080/"
        },
        "id": "4drVGhOtqlmR",
        "outputId": "5f6ba51a-7604-457f-ddb4-5d555cc914e9"
      },
      "outputs": [
        {
          "output_type": "stream",
          "name": "stdout",
          "text": [
            "FirstTab:\n",
            "(5, 'Pawan')\n",
            "(6, 'Sharlee')\n",
            "(7, 'Krish')\n",
            "(None, 'Avtaar')\n",
            "\n",
            "SecondTab:\n",
            "(5,)\n",
            "(None,)\n",
            "\n",
            "Q1: 0\n",
            "Q2: 2\n",
            "Q3: 0\n",
            "Q4: 2\n"
          ]
        }
      ],
      "source": [
        "# ===============================\n",
        "# Daily Challenge: Web API To DB\n",
        "# ===============================\n",
        "\n",
        "import sqlite3\n",
        "import requests\n",
        "import random\n",
        "\n",
        "# 1️⃣ Connexion à une base SQLite en mémoire\n",
        "conn = sqlite3.connect(':memory:')\n",
        "cur = conn.cursor()\n",
        "\n",
        "# 2️⃣ Création de la table pour les pays\n",
        "cur.execute('''\n",
        "CREATE TABLE countries (\n",
        "    name TEXT,\n",
        "    capital TEXT,\n",
        "    flag TEXT,\n",
        "    subregion TEXT,\n",
        "    population INTEGER\n",
        ")\n",
        "''')\n",
        "\n",
        "# 3️⃣ Appel à l'API REST Countries\n",
        "url = 'https://restcountries.com/v3.1/all'\n",
        "response = requests.get(url)\n",
        "data = response.json()\n",
        "\n",
        "# 4️⃣ Tirer 10 pays aléatoires\n",
        "sample_countries = random.sample(data, 10)\n",
        "\n",
        "# 5️⃣ Insertion dans la base\n",
        "for country in sample_countries:\n",
        "    name = country.get('name', {}).get('common', 'Unknown')\n",
        "    capital = country.get('capital', ['Unknown'])[0] if country.get('capital') else 'Unknown'\n",
        "    flag = country.get('flags', {}).get('png', 'Unknown')\n",
        "    subregion = country.get('subregion', 'Unknown')\n",
        "    population = country.get('population', 0)\n",
        "\n",
        "    cur.execute('''\n",
        "        INSERT INTO countries (name, capital, flag, subregion, population)\n",
        "        VALUES (?, ?, ?, ?, ?)\n",
        "    ''', (name, capital, flag, subregion, population))\n",
        "\n",
        "conn.commit()\n",
        "\n",
        "# 6️⃣ Vérification du contenu\n",
        "cur.execute('SELECT * FROM countries')\n",
        "rows = cur.fetchall()\n",
        "\n",
        "print(\"Pays insérés dans la base :\")\n",
        "for row in rows:\n",
        "    print(row)\n",
        "\n",
        "# 🔹 Fermer la connexion à la fin\n",
        "conn.close()\n"
      ]
    }
  ]
}